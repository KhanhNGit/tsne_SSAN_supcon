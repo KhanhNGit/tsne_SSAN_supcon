{
 "cells": [
  {
   "cell_type": "code",
   "execution_count": null,
   "metadata": {},
   "outputs": [],
   "source": [
    "import torch\n",
    "import torch.nn as nn\n",
    "from networks import *\n",
    "import torch\n",
    "import torch.nn as nn\n",
    "import os\n",
    "from networks import get_model\n",
    "from datasets import data_merge\n",
    "from optimizers import get_optimizer\n",
    "from torch.utils.data import DataLoader\n",
    "from transformers import *\n",
    "from utils import *\n",
    "from configs import parse_args\n",
    "import time\n",
    "import numpy as np\n",
    "import random\n",
    "import sys\n",
    "from loss import *\n",
    "\n",
    "pth_path = ''\n",
    "model = get_model(4000)\n",
    "model = nn.DataParallel(model)\n",
    "model.load_state_dict(torch.load(pth_path)['state_dict'])\n",
    "model.to('cuda')\n",
    "model.eval()\n",
    "\n",
    "data_path = ''\n",
    "data_bank = data_merge(data_path)\n",
    "dataset = data_bank.get_datasets(train=True, loo_domain=\"\", img_size=256, transform=transformer_train_ImageNet())\n",
    "dataloader = DataLoader(dataset, batch_size=1, shuffle=False, num_workers=2)\n",
    "\n",
    "all_domain = {}\n",
    "\n",
    "dict_B = {\n",
    "    '0': [],\n",
    "    '1': []\n",
    "}\n",
    "\n",
    "all_domain['photo'] = dict_B\n",
    "all_domain['replay_clear'] = dict_B\n",
    "all_domain['replay_notclear'] = dict_B\n",
    "all_domain['zalo'] = dict_B\n",
    "\n",
    "\n",
    "with torch.no_grad():\n",
    "    for i, sample_batched in enumerate(dataloader):\n",
    "        image_x, label, UUID = sample_batched[\"image_x\"].cuda(), sample_batched[\"label\"], sample_batched[\"UUID\"]\n",
    "        cls_x1_x1, fea_x1_x1, fea_x1_x2 = model(image_x, image_x)\n",
    "        all_domain[UUID][str(label)].append(fea_x1_x1.detach().cpu().numpy())"
   ]
  }
 ],
 "metadata": {
  "language_info": {
   "name": "python"
  }
 },
 "nbformat": 4,
 "nbformat_minor": 2
}
